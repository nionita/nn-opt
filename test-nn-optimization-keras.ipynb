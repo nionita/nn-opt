{
 "cells": [
  {
   "cell_type": "code",
   "execution_count": 108,
   "metadata": {
    "collapsed": true
   },
   "outputs": [],
   "source": [
    "import numpy as np\n",
    "%matplotlib inline\n",
    "import matplotlib.pyplot as plt"
   ]
  },
  {
   "cell_type": "markdown",
   "metadata": {},
   "source": [
    "## A test function with 2 variables\n",
    "\n",
    "This will be the function:\n",
    "f(x, y) = 0.2 * (x - 1) ^ 2 + 0.3 * (y - 2) ^ 2"
   ]
  },
  {
   "cell_type": "code",
   "execution_count": 109,
   "metadata": {
    "collapsed": true
   },
   "outputs": [],
   "source": [
    "offset = np.asarray([1, 2])\n",
    "qcoef = np.asarray([0.2, 0.3])"
   ]
  },
  {
   "cell_type": "code",
   "execution_count": 110,
   "metadata": {
    "collapsed": true
   },
   "outputs": [],
   "source": [
    "def test_function_1(x):\n",
    "    x1 = x - offset\n",
    "    x2 = x1 * x1\n",
    "    return np.dot(x2, qcoef)"
   ]
  },
  {
   "cell_type": "code",
   "execution_count": 111,
   "metadata": {},
   "outputs": [
    {
     "data": {
      "text/plain": [
       "1.3999999999999999"
      ]
     },
     "execution_count": 111,
     "metadata": {},
     "output_type": "execute_result"
    }
   ],
   "source": [
    "test_function_1(np.asarray([0, 0]))"
   ]
  },
  {
   "cell_type": "markdown",
   "metadata": {},
   "source": [
    "## Measurements are noisy\n",
    "We generate a bunch of noisy measurements around a given current point"
   ]
  },
  {
   "cell_type": "code",
   "execution_count": 112,
   "metadata": {
    "collapsed": true
   },
   "outputs": [],
   "source": [
    "cov = np.asarray([[1, 0], [0, 1]])"
   ]
  },
  {
   "cell_type": "code",
   "execution_count": 113,
   "metadata": {
    "collapsed": true
   },
   "outputs": [],
   "source": [
    "def generate_measurements(n, x0, varx=1, varm=1):\n",
    "    x = np.random.multivariate_normal(x0, cov * varx, n)\n",
    "    noise = np.random.randn(n) * varm\n",
    "    return x, test_function_1(x) + noise"
   ]
  },
  {
   "cell_type": "code",
   "execution_count": 114,
   "metadata": {},
   "outputs": [
    {
     "name": "stdout",
     "output_type": "stream",
     "text": [
      "[[ 1.28564693  2.0854552 ]\n",
      " [ 0.84333781  1.32302386]\n",
      " [ 0.12422724  1.74497074]]\n",
      "[ 0.11953002  0.16830768  0.15658223]\n"
     ]
    }
   ],
   "source": [
    "x, m = generate_measurements(3, [1, 1], 0.2, 0.1)\n",
    "print(x)\n",
    "print(m)"
   ]
  },
  {
   "cell_type": "markdown",
   "metadata": {},
   "source": [
    "## Optimizing\n",
    "We have an iterative process of 4 steps:\n",
    "- generate a few noisy measurements around the current x\n",
    "- test the current model on them\n",
    "- integrate the new measurements into training data and train a new model\n",
    "- based on the new model make a step from current x to maximize the given function"
   ]
  },
  {
   "cell_type": "code",
   "execution_count": 115,
   "metadata": {},
   "outputs": [],
   "source": [
    "import keras\n",
    "from keras.models import Model\n",
    "from keras.layers import Input, Dense, Dropout\n",
    "from keras import backend as K"
   ]
  },
  {
   "cell_type": "code",
   "execution_count": 116,
   "metadata": {
    "collapsed": true
   },
   "outputs": [],
   "source": [
    "INPUT_DIM = 2\n",
    "drop = 0.25\n",
    "lr_pred = 1e-4\n",
    "lr_opt = 1e-1"
   ]
  },
  {
   "cell_type": "code",
   "execution_count": 117,
   "metadata": {},
   "outputs": [],
   "source": [
    "inp = Input([INPUT_DIM], name='measure')\n",
    "x = Dense(4 * INPUT_DIM, activation='relu')(inp)\n",
    "x = Dropout(drop)(x)\n",
    "x = Dense(2 * INPUT_DIM, activation='relu')(x)\n",
    "x = Dense(2 * INPUT_DIM, activation='relu')(x)\n",
    "x = Dense(1 * INPUT_DIM, activation='relu')(x)\n",
    "x = Dense(1 * INPUT_DIM, activation='relu')(x)\n",
    "out = Dense(1)(x)\n",
    "network = Model(inputs=inp, outputs=out)"
   ]
  },
  {
   "cell_type": "code",
   "execution_count": 118,
   "metadata": {},
   "outputs": [
    {
     "name": "stdout",
     "output_type": "stream",
     "text": [
      "_________________________________________________________________\n",
      "Layer (type)                 Output Shape              Param #   \n",
      "=================================================================\n",
      "measure (InputLayer)         (None, 2)                 0         \n",
      "_________________________________________________________________\n",
      "dense_42 (Dense)             (None, 8)                 24        \n",
      "_________________________________________________________________\n",
      "dropout_25 (Dropout)         (None, 8)                 0         \n",
      "_________________________________________________________________\n",
      "dense_43 (Dense)             (None, 4)                 36        \n",
      "_________________________________________________________________\n",
      "dense_44 (Dense)             (None, 4)                 20        \n",
      "_________________________________________________________________\n",
      "dense_45 (Dense)             (None, 2)                 10        \n",
      "_________________________________________________________________\n",
      "dense_46 (Dense)             (None, 2)                 6         \n",
      "_________________________________________________________________\n",
      "dense_47 (Dense)             (None, 1)                 3         \n",
      "=================================================================\n",
      "Total params: 99\n",
      "Trainable params: 99\n",
      "Non-trainable params: 0\n",
      "_________________________________________________________________\n"
     ]
    }
   ],
   "source": [
    "network.summary()"
   ]
  },
  {
   "cell_type": "code",
   "execution_count": 119,
   "metadata": {
    "collapsed": true
   },
   "outputs": [],
   "source": [
    "sgd1 = keras.optimizers.SGD(lr=lr_pred)\n",
    "network.compile(optimizer=sgd1, loss='mean_squared_error')"
   ]
  },
  {
   "cell_type": "code",
   "execution_count": 120,
   "metadata": {
    "collapsed": true
   },
   "outputs": [],
   "source": [
    "for layer in network.layers:\n",
    "    layer.trainable = False"
   ]
  },
  {
   "cell_type": "code",
   "execution_count": 121,
   "metadata": {
    "collapsed": true
   },
   "outputs": [],
   "source": [
    "x0 = np.asarray([[0, 0]], 'float32')\n",
    "y0 = np.asarray([[0]], 'float32')"
   ]
  },
  {
   "cell_type": "code",
   "execution_count": 122,
   "metadata": {
    "collapsed": true
   },
   "outputs": [],
   "source": [
    "fake_inp = Input([1])\n",
    "current_x = Dense(INPUT_DIM, bias_initializer=keras.initializers.Constant(value=x0))(fake_inp)"
   ]
  },
  {
   "cell_type": "code",
   "execution_count": 123,
   "metadata": {},
   "outputs": [],
   "source": [
    "current_y = network(current_x)\n",
    "optimizer = Model(inputs=fake_inp, outputs=current_y)"
   ]
  },
  {
   "cell_type": "code",
   "execution_count": 124,
   "metadata": {
    "collapsed": true
   },
   "outputs": [],
   "source": [
    "sgd2 = keras.optimizers.SGD(lr=lr_opt)\n",
    "optimizer.compile(optimizer=sgd2, loss='mean_squared_error')"
   ]
  },
  {
   "cell_type": "code",
   "execution_count": 125,
   "metadata": {},
   "outputs": [
    {
     "name": "stdout",
     "output_type": "stream",
     "text": [
      "_________________________________________________________________\n",
      "Layer (type)                 Output Shape              Param #   \n",
      "=================================================================\n",
      "input_6 (InputLayer)         (None, 1)                 0         \n",
      "_________________________________________________________________\n",
      "dense_48 (Dense)             (None, 2)                 4         \n",
      "_________________________________________________________________\n",
      "model_11 (Model)             (None, 1)                 99        \n",
      "=================================================================\n",
      "Total params: 103\n",
      "Trainable params: 4\n",
      "Non-trainable params: 99\n",
      "_________________________________________________________________\n"
     ]
    }
   ],
   "source": [
    "optimizer.summary()"
   ]
  },
  {
   "cell_type": "markdown",
   "metadata": {},
   "source": [
    "### Training data accumulates"
   ]
  },
  {
   "cell_type": "code",
   "execution_count": 126,
   "metadata": {
    "collapsed": true
   },
   "outputs": [],
   "source": [
    "no_meas = 32\n",
    "batch_size = 32\n",
    "max_points = 10240\n",
    "point_spread = 0.3\n",
    "meas_sigma = 0.1\n",
    "opt_steps = 100\n",
    "pre_steps = 1000"
   ]
  },
  {
   "cell_type": "code",
   "execution_count": 127,
   "metadata": {
    "collapsed": true
   },
   "outputs": [],
   "source": [
    "train_x = None\n",
    "train_y = None\n",
    "permut = None\n",
    "mse = []\n",
    "tx = []\n",
    "ty = []\n",
    "tl = []"
   ]
  },
  {
   "cell_type": "code",
   "execution_count": 128,
   "metadata": {
    "collapsed": true
   },
   "outputs": [],
   "source": [
    "def get_batch(k):\n",
    "    i = k * batch_size % train_x.shape[0]\n",
    "    p = permut[i : i + batch_size]\n",
    "    return train_x[p,], train_y[p,]"
   ]
  },
  {
   "cell_type": "code",
   "execution_count": 129,
   "metadata": {
    "collapsed": true
   },
   "outputs": [],
   "source": [
    "def integrate_train(tx, ty, x, y):\n",
    "    if tx is None:\n",
    "        tx = x\n",
    "        ty = y\n",
    "    else:\n",
    "        tx = np.vstack((tx, x))[:max_points,]\n",
    "        ty = np.vstack((ty, y))[:max_points,]\n",
    "        \n",
    "    per = np.random.permutation(tx.shape[0])\n",
    "    return tx, ty, per"
   ]
  },
  {
   "cell_type": "code",
   "execution_count": 130,
   "metadata": {},
   "outputs": [
    {
     "name": "stdout",
     "output_type": "stream",
     "text": [
      "32/32 [==============================] - 0s\n",
      "32/32 [==============================] - 0s\n",
      "32/32 [==============================] - 0s\n",
      "32/32 [==============================] - 0s\n",
      "32/32 [==============================] - 0s\n",
      "32/32 [==============================] - 0s\n",
      "32/32 [==============================] - 0s\n",
      "32/32 [==============================] - 0s\n",
      "32/32 [==============================] - 0s\n",
      "32/32 [==============================] - 0s\n",
      "32/32 [==============================] - 0s\n",
      "32/32 [==============================] - 0s\n",
      "32/32 [==============================] - 0s\n",
      "32/32 [==============================] - 0s\n",
      "32/32 [==============================] - 0s\n",
      "32/32 [==============================] - 0s\n",
      "32/32 [==============================] - 0s\n",
      "32/32 [==============================] - 0s\n",
      "32/32 [==============================] - 0s\n",
      "32/32 [==============================] - 0s\n",
      "32/32 [==============================] - 0s\n",
      "32/32 [==============================] - 0s\n",
      "32/32 [==============================] - 0s\n",
      "32/32 [==============================] - 0s\n",
      "32/32 [==============================] - 0s\n",
      "32/32 [==============================] - 0s\n",
      "32/32 [==============================] - 0s\n",
      "32/32 [==============================] - 0s\n",
      "32/32 [==============================] - 0s\n",
      "32/32 [==============================] - 0s\n",
      "32/32 [==============================] - 0s\n",
      "32/32 [==============================] - 0s\n",
      "32/32 [==============================] - 0s\n",
      "32/32 [==============================] - 0s\n",
      "32/32 [==============================] - 0s\n",
      "32/32 [==============================] - 0s\n",
      "32/32 [==============================] - 0s\n",
      "32/32 [==============================] - 0s\n",
      "32/32 [==============================] - 0s\n",
      "32/32 [==============================] - 0s\n",
      "32/32 [==============================] - 0s\n",
      "32/32 [==============================] - 0s\n",
      "32/32 [==============================] - 0s\n",
      "32/32 [==============================] - 0s\n",
      "32/32 [==============================] - 0s\n",
      "32/32 [==============================] - 0s\n",
      "32/32 [==============================] - 0s\n",
      "32/32 [==============================] - 0s\n",
      "32/32 [==============================] - 0s\n",
      "32/32 [==============================] - 0s\n",
      "32/32 [==============================] - 0s\n",
      "32/32 [==============================] - 0s\n",
      "32/32 [==============================] - 0s\n",
      "32/32 [==============================] - 0s\n",
      "32/32 [==============================] - 0s\n",
      "32/32 [==============================] - 0s\n",
      "32/32 [==============================] - 0s\n",
      "32/32 [==============================] - 0s\n",
      "32/32 [==============================] - 0s\n",
      "32/32 [==============================] - 0s\n",
      "32/32 [==============================] - 0s\n",
      "32/32 [==============================] - 0s\n",
      "32/32 [==============================] - 0s\n",
      "32/32 [==============================] - 0s\n",
      "32/32 [==============================] - 0s\n",
      "32/32 [==============================] - 0s\n",
      "32/32 [==============================] - 0s\n",
      "32/32 [==============================] - 0s\n",
      "32/32 [==============================] - 0s\n",
      "32/32 [==============================] - 0s\n",
      "32/32 [==============================] - 0s\n",
      "32/32 [==============================] - 0s\n",
      "32/32 [==============================] - 0s\n",
      "32/32 [==============================] - 0s\n",
      "32/32 [==============================] - 0s\n",
      "32/32 [==============================] - 0s\n",
      "32/32 [==============================] - 0s\n",
      "32/32 [==============================] - 0s\n",
      "32/32 [==============================] - 0s\n",
      "32/32 [==============================] - 0s\n",
      "32/32 [==============================] - 0s\n",
      "32/32 [==============================] - 0s\n",
      "32/32 [==============================] - 0s\n",
      "32/32 [==============================] - 0s\n",
      "32/32 [==============================] - 0s\n",
      "32/32 [==============================] - 0s\n",
      "32/32 [==============================] - 0s\n",
      "32/32 [==============================] - 0s\n",
      "32/32 [==============================] - 0s\n",
      "32/32 [==============================] - 0s\n",
      "32/32 [==============================] - 0s\n",
      "32/32 [==============================] - 0s\n",
      "32/32 [==============================] - 0s\n",
      "32/32 [==============================] - 0s\n",
      "32/32 [==============================] - 0s\n",
      "32/32 [==============================] - 0s\n",
      "32/32 [==============================] - 0s\n",
      "32/32 [==============================] - 0s\n",
      "32/32 [==============================] - 0s\n",
      "32/32 [==============================] - 0s\n"
     ]
    }
   ],
   "source": [
    "for step in range(opt_steps):\n",
    "    # Current optimization point\n",
    "    xc = optimizer.layers[1].get_weights()[1]\n",
    "    #print('current x:', xc)\n",
    "    tx.append(xc[0])\n",
    "    ty.append(xc[1])\n",
    "    \n",
    "    # Generate new measurements around it\n",
    "    x, y = generate_measurements(no_meas, xc, point_spread, meas_sigma)\n",
    "    y = np.reshape(y, (no_meas, 1))\n",
    "    \n",
    "    # Test the old model on the new measurements\n",
    "    p_loss = network.evaluate(x, y)\n",
    "    mse.append(p_loss)\n",
    "    #print('Pred loss:', p_loss)\n",
    "    \n",
    "    # Integrate new point to the training set\n",
    "    train_x, train_y, permut = integrate_train(train_x, train_y, x, y)\n",
    "    \n",
    "    # Train a new model\n",
    "    for k in range(pre_steps):\n",
    "        x, y = get_batch(k)\n",
    "        t_loss = network.train_on_batch(x, y)\n",
    "        tl.append(t_loss)\n",
    "    \n",
    "    # Make a step to the new optimum\n",
    "    o_loss = optimizer.train_on_batch(y0, y0)"
   ]
  },
  {
   "cell_type": "code",
   "execution_count": 131,
   "metadata": {},
   "outputs": [
    {
     "data": {
      "image/png": "[encoded data removed]",
      "text/plain": [
       "<matplotlib.figure.Figure at 0x2473e697080>"
      ]
     },
     "metadata": {},
     "output_type": "display_data"
    }
   ],
   "source": [
    "plt.scatter(train_x[:, 0], train_x[:, 1])\n",
    "plt.plot(tx, ty, 'r')\n",
    "plt.show()"
   ]
  },
  {
   "cell_type": "code",
   "execution_count": 132,
   "metadata": {},
   "outputs": [
    {
     "data": {
      "image/png": "[encoded data removed]",
      "text/plain": [
       "<matplotlib.figure.Figure at 0x2473e5b10f0>"
      ]
     },
     "metadata": {},
     "output_type": "display_data"
    }
   ],
   "source": [
    "plt.plot(tl)\n",
    "plt.show()"
   ]
  },
  {
   "cell_type": "code",
   "execution_count": 133,
   "metadata": {},
   "outputs": [
    {
     "data": {
      "image/png": "[encoded data removed]",
      "text/plain": [
       "<matplotlib.figure.Figure at 0x2473ebca518>"
      ]
     },
     "metadata": {},
     "output_type": "display_data"
    }
   ],
   "source": [
    "plt.plot(mse)\n",
    "plt.show()"
   ]
  }
 ],
 "metadata": {
  "kernelspec": {
   "display_name": "Python [conda env:AMLS]",
   "language": "python",
   "name": "conda-env-AMLS-py"
  },
  "language_info": {
   "codemirror_mode": {
    "name": "ipython",
    "version": 3
   },
   "file_extension": ".py",
   "mimetype": "text/x-python",
   "name": "python",
   "nbconvert_exporter": "python",
   "pygments_lexer": "ipython3",
   "version": "3.5.4"
  }
 },
 "nbformat": 4,
 "nbformat_minor": 2
}
