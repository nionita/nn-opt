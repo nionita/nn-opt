{
 "cells": [
  {
   "cell_type": "code",
   "execution_count": 255,
   "metadata": {
    "collapsed": true
   },
   "outputs": [],
   "source": [
    "import tensorflow as tf"
   ]
  },
  {
   "cell_type": "code",
   "execution_count": 256,
   "metadata": {},
   "outputs": [],
   "source": [
    "import numpy as np\n",
    "%matplotlib inline\n",
    "import matplotlib.pyplot as plt"
   ]
  },
  {
   "cell_type": "markdown",
   "metadata": {},
   "source": [
    "## A test function with 2 variables\n",
    "\n",
    "This will be the function:\n",
    "f(x, y) = 0.2 * (x - 1) ^ 2 + 0.3 * (y - 2) ^ 2"
   ]
  },
  {
   "cell_type": "code",
   "execution_count": 257,
   "metadata": {},
   "outputs": [],
   "source": [
    "offset = np.asarray([1, 2])\n",
    "qcoef = np.asarray([0.2, 0.3])"
   ]
  },
  {
   "cell_type": "code",
   "execution_count": 258,
   "metadata": {
    "collapsed": true
   },
   "outputs": [],
   "source": [
    "def test_function_1(x):\n",
    "    x1 = x - offset\n",
    "    x2 = x1 * x1\n",
    "    return np.dot(x2, qcoef)"
   ]
  },
  {
   "cell_type": "code",
   "execution_count": 259,
   "metadata": {},
   "outputs": [
    {
     "data": {
      "text/plain": [
       "1.3999999999999999"
      ]
     },
     "execution_count": 259,
     "metadata": {},
     "output_type": "execute_result"
    }
   ],
   "source": [
    "test_function_1(np.asarray([0, 0]))"
   ]
  },
  {
   "cell_type": "markdown",
   "metadata": {},
   "source": [
    "## Measurements are noisy\n",
    "We generate a bunch of noisy measurements around a given current point"
   ]
  },
  {
   "cell_type": "code",
   "execution_count": 260,
   "metadata": {
    "collapsed": true
   },
   "outputs": [],
   "source": [
    "cov = np.asarray([[1, 0], [0, 1]])"
   ]
  },
  {
   "cell_type": "code",
   "execution_count": 261,
   "metadata": {
    "collapsed": true
   },
   "outputs": [],
   "source": [
    "def generate_measurements(n, x0, varx=1, varm=1):\n",
    "    x = np.random.multivariate_normal(x0, cov * varx, n)\n",
    "    noise = np.random.randn(n) * varm\n",
    "    return x, test_function_1(x) + noise"
   ]
  },
  {
   "cell_type": "code",
   "execution_count": 262,
   "metadata": {},
   "outputs": [
    {
     "name": "stdout",
     "output_type": "stream",
     "text": [
      "[[ 0.54844545  0.5142837 ]\n",
      " [ 1.3141976   1.31530634]\n",
      " [ 1.03882567  1.45071744]]\n",
      "[ 0.60973842  0.07153776  0.01396643]\n"
     ]
    }
   ],
   "source": [
    "x, m = generate_measurements(3, [1, 1], 0.2, 0.1)\n",
    "print(x)\n",
    "print(m)"
   ]
  },
  {
   "cell_type": "markdown",
   "metadata": {},
   "source": [
    "## Optimizing\n",
    "We have an iterative process of 4 steps:\n",
    "- generate a few noisy measurements around the current x\n",
    "- test the current model on them\n",
    "- integrate the new measurements into training data and train a new model\n",
    "- based on the new model make a step from current x to maximize the given function"
   ]
  },
  {
   "cell_type": "code",
   "execution_count": 263,
   "metadata": {},
   "outputs": [],
   "source": [
    "import keras\n",
    "from keras.models import Sequential\n",
    "from keras import layers as L"
   ]
  },
  {
   "cell_type": "code",
   "execution_count": 283,
   "metadata": {
    "collapsed": true
   },
   "outputs": [],
   "source": [
    "INPUT_DIM = 2\n",
    "#HIDDEN = (2 * INPUT_DIM, 2 * INPUT_DIM, INPUT_DIM, INPUT_DIM)\n",
    "#HIDDEN = (INPUT_DIM, 2 * INPUT_DIM, INPUT_DIM, INPUT_DIM)\n",
    "HIDDEN = (4 * INPUT_DIM, 2 * INPUT_DIM, 2 * INPUT_DIM, INPUT_DIM, INPUT_DIM)\n",
    "lr_pred = 1e-4\n",
    "lr_opt = 1e-1"
   ]
  },
  {
   "cell_type": "code",
   "execution_count": 284,
   "metadata": {
    "collapsed": true
   },
   "outputs": [],
   "source": [
    "sess = tf.InteractiveSession()"
   ]
  },
  {
   "cell_type": "code",
   "execution_count": 306,
   "metadata": {},
   "outputs": [],
   "source": [
    "predictor = Sequential()\n",
    "predictor.add(L.InputLayer([INPUT_DIM],name='measure'))\n",
    "for i, h in enumerate(HIDDEN):\n",
    "    predictor.add(L.Dense(h, activation='relu', name='dense_'+str(i)))\n",
    "predictor.add(L.Dense(1, name='output'))"
   ]
  },
  {
   "cell_type": "code",
   "execution_count": 307,
   "metadata": {},
   "outputs": [
    {
     "name": "stdout",
     "output_type": "stream",
     "text": [
      "_________________________________________________________________\n",
      "Layer (type)                 Output Shape              Param #   \n",
      "=================================================================\n",
      "measure (InputLayer)         (None, 2)                 0         \n",
      "_________________________________________________________________\n",
      "dense_0 (Dense)              (None, 8)                 24        \n",
      "_________________________________________________________________\n",
      "dense_1 (Dense)              (None, 4)                 36        \n",
      "_________________________________________________________________\n",
      "dense_2 (Dense)              (None, 4)                 20        \n",
      "_________________________________________________________________\n",
      "dense_3 (Dense)              (None, 2)                 10        \n",
      "_________________________________________________________________\n",
      "dense_4 (Dense)              (None, 2)                 6         \n",
      "_________________________________________________________________\n",
      "output (Dense)               (None, 1)                 3         \n",
      "=================================================================\n",
      "Total params: 99\n",
      "Trainable params: 99\n",
      "Non-trainable params: 0\n",
      "_________________________________________________________________\n"
     ]
    }
   ],
   "source": [
    "predictor.summary()"
   ]
  },
  {
   "cell_type": "code",
   "execution_count": 286,
   "metadata": {},
   "outputs": [],
   "source": [
    "x0 = np.asarray([[0, 0]], 'float32')\n",
    "y0 = np.asarray([[0]], 'float32')"
   ]
  },
  {
   "cell_type": "code",
   "execution_count": 287,
   "metadata": {
    "collapsed": true
   },
   "outputs": [],
   "source": [
    "current_x = tf.Variable(x0, name='current_x')\n",
    "measure_x = tf.placeholder('float32', [None, INPUT_DIM])\n",
    "measure_y = tf.placeholder('float32', [None, 1])"
   ]
  },
  {
   "cell_type": "code",
   "execution_count": 288,
   "metadata": {
    "collapsed": true
   },
   "outputs": [],
   "source": [
    "predict_y = predictor(measure_x)\n",
    "predictor_loss = tf.losses.mean_squared_error(measure_y, predict_y)"
   ]
  },
  {
   "cell_type": "code",
   "execution_count": 289,
   "metadata": {},
   "outputs": [],
   "source": [
    "current_y = predictor(current_x)\n",
    "optimizer_loss = tf.losses.mean_squared_error(y0, current_y)"
   ]
  },
  {
   "cell_type": "code",
   "execution_count": 290,
   "metadata": {},
   "outputs": [
    {
     "data": {
      "text/plain": [
       "[<tf.Variable 'dense_21/kernel:0' shape=(2, 8) dtype=float32_ref>,\n",
       " <tf.Variable 'dense_21/bias:0' shape=(8,) dtype=float32_ref>,\n",
       " <tf.Variable 'dense_22/kernel:0' shape=(8, 4) dtype=float32_ref>,\n",
       " <tf.Variable 'dense_22/bias:0' shape=(4,) dtype=float32_ref>,\n",
       " <tf.Variable 'dense_23/kernel:0' shape=(4, 4) dtype=float32_ref>,\n",
       " <tf.Variable 'dense_23/bias:0' shape=(4,) dtype=float32_ref>,\n",
       " <tf.Variable 'dense_24/kernel:0' shape=(4, 2) dtype=float32_ref>,\n",
       " <tf.Variable 'dense_24/bias:0' shape=(2,) dtype=float32_ref>,\n",
       " <tf.Variable 'dense_25/kernel:0' shape=(2, 2) dtype=float32_ref>,\n",
       " <tf.Variable 'dense_25/bias:0' shape=(2,) dtype=float32_ref>,\n",
       " <tf.Variable 'output_5/kernel:0' shape=(2, 1) dtype=float32_ref>,\n",
       " <tf.Variable 'output_5/bias:0' shape=(1,) dtype=float32_ref>]"
      ]
     },
     "execution_count": 290,
     "metadata": {},
     "output_type": "execute_result"
    }
   ],
   "source": [
    "predictor.trainable_weights"
   ]
  },
  {
   "cell_type": "code",
   "execution_count": 291,
   "metadata": {},
   "outputs": [
    {
     "data": {
      "text/plain": [
       "<tf.Variable 'current_x_5:0' shape=(1, 2) dtype=float32_ref>"
      ]
     },
     "execution_count": 291,
     "metadata": {},
     "output_type": "execute_result"
    }
   ],
   "source": [
    "current_x"
   ]
  },
  {
   "cell_type": "code",
   "execution_count": 292,
   "metadata": {},
   "outputs": [],
   "source": [
    "predictor_opt = tf.train.GradientDescentOptimizer(lr_pred).minimize(predictor_loss, var_list=predictor.trainable_weights)\n",
    "optimizer_opt = tf.train.GradientDescentOptimizer(lr_opt).minimize(optimizer_loss, var_list=[current_x])"
   ]
  },
  {
   "cell_type": "markdown",
   "metadata": {},
   "source": [
    "### Training data accumulates"
   ]
  },
  {
   "cell_type": "code",
   "execution_count": 293,
   "metadata": {
    "collapsed": true
   },
   "outputs": [],
   "source": [
    "no_meas = 16\n",
    "batch_size = 16\n",
    "max_points = 1024\n",
    "#ps_max = 0.3\n",
    "#ps_min = 0.05\n",
    "point_spread = 0.3\n",
    "meas_sigma = 0.1\n",
    "opt_steps = 100\n",
    "pre_steps = 500"
   ]
  },
  {
   "cell_type": "code",
   "execution_count": 294,
   "metadata": {
    "collapsed": true
   },
   "outputs": [],
   "source": [
    "train_x = None\n",
    "train_y = None\n",
    "permut = None\n",
    "mse = []\n",
    "tx = []\n",
    "ty = []\n",
    "tl = []"
   ]
  },
  {
   "cell_type": "code",
   "execution_count": 295,
   "metadata": {
    "collapsed": true
   },
   "outputs": [],
   "source": [
    "def get_batch(k):\n",
    "    i = k * batch_size % train_x.shape[0]\n",
    "    p = permut[i : i + batch_size]\n",
    "    return train_x[p,], train_y[p,]"
   ]
  },
  {
   "cell_type": "code",
   "execution_count": 296,
   "metadata": {
    "collapsed": true
   },
   "outputs": [],
   "source": [
    "def integrate_train(tx, ty, x, y):\n",
    "    if tx is None:\n",
    "        tx = x\n",
    "        ty = y\n",
    "    else:\n",
    "        tx = np.vstack((tx, x))[:max_points,]\n",
    "        ty = np.vstack((ty, y))[:max_points,]\n",
    "        \n",
    "    per = np.random.permutation(tx.shape[0])\n",
    "    return tx, ty, per"
   ]
  },
  {
   "cell_type": "code",
   "execution_count": 297,
   "metadata": {
    "collapsed": true
   },
   "outputs": [],
   "source": [
    "sess.run(tf.global_variables_initializer())"
   ]
  },
  {
   "cell_type": "code",
   "execution_count": 298,
   "metadata": {},
   "outputs": [
    {
     "name": "stdout",
     "output_type": "stream",
     "text": [
      "Pred loss: 2.77812\n",
      "Pred loss: 2.94824\n",
      "Pred loss: 2.49115\n",
      "Pred loss: 2.37443\n",
      "Pred loss: 1.41177\n",
      "Pred loss: 0.789694\n",
      "Pred loss: 0.907695\n",
      "Pred loss: 1.31652\n",
      "Pred loss: 1.47424\n",
      "Pred loss: 0.90241\n",
      "Pred loss: 0.508538\n",
      "Pred loss: 0.646805\n",
      "Pred loss: 0.926811\n",
      "Pred loss: 0.67593\n",
      "Pred loss: 0.644852\n",
      "Pred loss: 0.621036\n",
      "Pred loss: 0.530612\n",
      "Pred loss: 0.385594\n",
      "Pred loss: 0.468964\n",
      "Pred loss: 0.575078\n",
      "Pred loss: 0.393051\n",
      "Pred loss: 0.379815\n",
      "Pred loss: 0.185802\n",
      "Pred loss: 0.282978\n",
      "Pred loss: 0.29055\n",
      "Pred loss: 0.197142\n",
      "Pred loss: 0.206913\n",
      "Pred loss: 1.53698\n",
      "Pred loss: 0.27094\n",
      "Pred loss: 0.346072\n",
      "Pred loss: 0.36778\n",
      "Pred loss: 0.267404\n",
      "Pred loss: 0.425191\n",
      "Pred loss: 0.474131\n",
      "Pred loss: 0.324584\n",
      "Pred loss: 0.376647\n",
      "Pred loss: 0.609654\n",
      "Pred loss: 0.321908\n",
      "Pred loss: 0.50616\n",
      "Pred loss: 0.379759\n",
      "Pred loss: 0.379589\n",
      "Pred loss: 0.319571\n",
      "Pred loss: 0.404796\n",
      "Pred loss: 0.368573\n",
      "Pred loss: 0.301564\n",
      "Pred loss: 0.341072\n",
      "Pred loss: 0.231311\n",
      "Pred loss: 0.138064\n",
      "Pred loss: 0.165948\n",
      "Pred loss: 0.179705\n",
      "Pred loss: 0.179158\n",
      "Pred loss: 0.0558575\n",
      "Pred loss: 0.163022\n",
      "Pred loss: 0.0195532\n",
      "Pred loss: 0.102616\n",
      "Pred loss: 0.0407417\n",
      "Pred loss: 0.109818\n",
      "Pred loss: 0.124302\n",
      "Pred loss: 0.0944158\n",
      "Pred loss: 0.226592\n",
      "Pred loss: 0.0951388\n",
      "Pred loss: 0.116755\n",
      "Pred loss: 0.194618\n",
      "Pred loss: 0.0651202\n",
      "Pred loss: 0.0440674\n",
      "Pred loss: 0.0607336\n",
      "Pred loss: 0.15091\n",
      "Pred loss: 0.0470863\n",
      "Pred loss: 0.0465616\n",
      "Pred loss: 0.117676\n",
      "Pred loss: 0.0547653\n",
      "Pred loss: 0.163754\n",
      "Pred loss: 0.172448\n",
      "Pred loss: 0.0751831\n",
      "Pred loss: 0.0678557\n",
      "Pred loss: 0.0565097\n",
      "Pred loss: 0.0386961\n",
      "Pred loss: 0.0759636\n",
      "Pred loss: 0.0423831\n",
      "Pred loss: 0.0635271\n",
      "Pred loss: 0.130106\n",
      "Pred loss: 0.146374\n",
      "Pred loss: 0.124693\n",
      "Pred loss: 0.112016\n",
      "Pred loss: 0.103319\n",
      "Pred loss: 0.0490229\n",
      "Pred loss: 0.211276\n",
      "Pred loss: 0.127111\n",
      "Pred loss: 0.079169\n",
      "Pred loss: 0.0394675\n",
      "Pred loss: 0.0539806\n",
      "Pred loss: 0.179031\n",
      "Pred loss: 0.0729119\n",
      "Pred loss: 0.0328533\n",
      "Pred loss: 0.121715\n",
      "Pred loss: 0.141277\n",
      "Pred loss: 0.0226851\n",
      "Pred loss: 0.0695736\n",
      "Pred loss: 0.0864215\n",
      "Pred loss: 0.18775\n"
     ]
    }
   ],
   "source": [
    "for step in range(opt_steps):\n",
    "    # Current optimization point\n",
    "    xc = sess.run(current_x)[0]\n",
    "    tx.append(xc[0])\n",
    "    ty.append(xc[1])\n",
    "    \n",
    "    # Generate new measurements around it\n",
    "    x, y = generate_measurements(no_meas, xc, point_spread, meas_sigma)\n",
    "    y = np.reshape(y, (no_meas, 1))\n",
    "    \n",
    "    # Test the old model on the new measurements\n",
    "    p_loss = sess.run(predictor_loss, {measure_x: x, measure_y: y})\n",
    "    mse.append(p_loss)\n",
    "    print('Pred loss:', p_loss)\n",
    "    \n",
    "    # Now we lower point spread when we predict well\n",
    "    #point_spread = max(ps_min, min(point_spread, p_loss))\n",
    "    \n",
    "    # Integrate new point to the training set\n",
    "    train_x, train_y, permut = integrate_train(train_x, train_y, x, y)\n",
    "    \n",
    "    # Train a new model\n",
    "    for k in range(pre_steps):\n",
    "        x, y = get_batch(k)\n",
    "        t_loss, _ = sess.run([predictor_loss, predictor_opt], {measure_x: x, measure_y: y})\n",
    "        tl.append(t_loss)\n",
    "    \n",
    "    # Make a step to the new optimum\n",
    "    _ = sess.run(optimizer_opt)\n",
    "\n",
    "#xc = sess.run(current_x)"
   ]
  },
  {
   "cell_type": "code",
   "execution_count": 299,
   "metadata": {},
   "outputs": [
    {
     "data": {
      "image/png": "[encoded data removed]",
      "text/plain": [
       "<matplotlib.figure.Figure at 0x1b2f482b2b0>"
      ]
     },
     "metadata": {},
     "output_type": "display_data"
    }
   ],
   "source": [
    "plt.scatter(train_x[:, 0], train_x[:, 1])\n",
    "plt.plot(tx, ty, 'r')\n",
    "plt.show()"
   ]
  },
  {
   "cell_type": "code",
   "execution_count": 300,
   "metadata": {},
   "outputs": [
    {
     "data": {
      "image/png": "[encoded data removed]",
      "text/plain": [
       "<matplotlib.figure.Figure at 0x1b2f729bd68>"
      ]
     },
     "metadata": {},
     "output_type": "display_data"
    }
   ],
   "source": [
    "plt.plot(tl)\n",
    "plt.show()"
   ]
  },
  {
   "cell_type": "code",
   "execution_count": 301,
   "metadata": {},
   "outputs": [
    {
     "data": {
      "image/png": "[encoded data removed]",
      "text/plain": [
       "<matplotlib.figure.Figure at 0x1b2f58f92e8>"
      ]
     },
     "metadata": {},
     "output_type": "display_data"
    }
   ],
   "source": [
    "plt.plot(mse)\n",
    "plt.show()"
   ]
  }
 ],
 "metadata": {
  "kernelspec": {
   "display_name": "Python [conda env:AMLS]",
   "language": "python",
   "name": "conda-env-AMLS-py"
  },
  "language_info": {
   "codemirror_mode": {
    "name": "ipython",
    "version": 3
   },
   "file_extension": ".py",
   "mimetype": "text/x-python",
   "name": "python",
   "nbconvert_exporter": "python",
   "pygments_lexer": "ipython3",
   "version": "3.5.4"
  }
 },
 "nbformat": 4,
 "nbformat_minor": 2
}
